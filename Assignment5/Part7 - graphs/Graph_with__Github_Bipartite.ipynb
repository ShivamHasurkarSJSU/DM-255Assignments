{
  "nbformat": 4,
  "nbformat_minor": 0,
  "metadata": {
    "colab": {
      "provenance": []
    },
    "kernelspec": {
      "name": "python3",
      "display_name": "Python 3"
    },
    "language_info": {
      "name": "python"
    }
  },
  "cells": [
    {
      "cell_type": "code",
      "execution_count": 2,
      "metadata": {
        "id": "PGehfe8FgSYC"
      },
      "outputs": [],
      "source": [
        "import os\n",
        "import zipfile\n",
        "\n",
        "# Unzipping the dataset\n",
        "with zipfile.ZipFile('/content/dataset.zip', 'r') as zip_ref:\n",
        "    zip_ref.extractall('/content/')\n",
        "\n",
        "\n"
      ]
    },
    {
      "cell_type": "code",
      "source": [
        "# Checking the extracted files\n",
        "extracted_files = os.listdir('/content/dataset/github-Data(2)')\n",
        "extracted_files"
      ],
      "metadata": {
        "colab": {
          "base_uri": "https://localhost:8080/"
        },
        "id": "H51Ik1EjhivQ",
        "outputId": "db64443c-d096-4ced-dcf4-5b3089f8326d"
      },
      "execution_count": 3,
      "outputs": [
        {
          "output_type": "execute_result",
          "data": {
            "text/plain": [
              "['repositories.csv', 'developers.csv']"
            ]
          },
          "metadata": {},
          "execution_count": 3
        }
      ]
    },
    {
      "cell_type": "code",
      "source": [
        "import pandas as pd\n",
        "\n",
        "# Load the datasets\n",
        "developers_df = pd.read_csv('/content/dataset/github-Data(2)/developers.csv')\n",
        "repositories_df = pd.read_csv('/content/dataset/github-Data(2)/repositories.csv')\n",
        "edge_list_df = pd.read_csv('/content/dataset/edgelist.csv')\n",
        "\n",
        "# Display the first few rows of each dataframe\n",
        "developers_head = developers_df.head()\n",
        "repositories_head = repositories_df.head()\n",
        "edge_list_head = edge_list_df.head()\n",
        "\n",
        "print(\"Developers Data:\")\n",
        "print(developers_head)\n",
        "print(\"\\nRepositories Data:\")\n",
        "print(repositories_head)\n",
        "print(\"\\nEdgelist Data:\")\n",
        "print(edge_list_head)\n",
        "\n",
        "\n",
        "# Dimension of the data\n",
        "print(\"\\nDevelopers Data Shape:\", developers_df.shape)\n",
        "print(\"Repositories Data Shape:\", repositories_df.shape)\n",
        "print(\"Edgelist Data Shape:\", edge_list_df.shape)\n",
        "\n",
        "# Statistical Summary\n",
        "print(\"\\nDevelopers Data Description:\")\n",
        "print(developers_df.describe())\n",
        "print(\"\\nRepositories Data Description:\")\n",
        "print(repositories_df.describe())"
      ],
      "metadata": {
        "colab": {
          "base_uri": "https://localhost:8080/"
        },
        "id": "46zUjAFRhiqv",
        "outputId": "baf194c0-0e97-4bab-91d8-508887cdde8a"
      },
      "execution_count": 7,
      "outputs": [
        {
          "output_type": "stream",
          "name": "stdout",
          "text": [
            "Developers Data:\n",
            "   dev_id       username                Name  \\\n",
            "0       0       karpathy              Andrej   \n",
            "1       1  rafaballerini  Rafaella Ballerini   \n",
            "2       2     llSourcell         Siraj Raval   \n",
            "3       3    michaelliao        Michael Liao   \n",
            "4       4         geohot         George Hotz   \n",
            "\n",
            "                                                 Bio              Company  \\\n",
            "0  I like to train Deep Neural Nets on large data...                  NaN   \n",
            "1  Desenvolvedora de software e criadora de conte...                  NaN   \n",
            "2  subscribe to my youtube channel! \\r\\nwww.youtu...                  NaN   \n",
            "3                                  Crypto developer.                  NaN   \n",
            "4                  We will commoditize the petaflop.  @commaai @tinygrad    \n",
            "\n",
            "                 Location  Public Repositories  Followers  Following  \\\n",
            "0                Stanford                   49      49935          7   \n",
            "1  Santa Catarina, Brasil                   47      43740         28   \n",
            "2       San Francisco, CA                  458      36518          4   \n",
            "3          Beijing, China                   78      36065          3   \n",
            "4           San Diego, CA                   83      34489          0   \n",
            "\n",
            "                                   listOfPinnedRepos starredRepoCount  \\\n",
            "0  ['nanoGPT', 'micrograd', 'Minimal character-le...              105   \n",
            "1  ['GitTutorial', 'rafaballerini', 'AssistentePe...               33   \n",
            "2  ['ChatGPT_in_5_Minutes', 'LearnML', 'ChatGPT_T...               20   \n",
            "3  ['itranswarp', 'warpexchange', 'summer-framewo...              129   \n",
            "4  ['tinygrad', 'qira', 'minikeyvalue', 'fromthet...               44   \n",
            "\n",
            "  yearly_contributions                                    repos_name_list  \\\n",
            "0                  390  ['https://github.com/karpathy/micrograd', 'htt...   \n",
            "1                  100  ['https://github.com/rafaballerini/rafaballeri...   \n",
            "2                  101  ['https://github.com/llSourcell/Make_Money_wit...   \n",
            "3                  819  ['https://github.com/michaelliao/learngit', 'h...   \n",
            "4                1,547  ['https://github.com/geohot/tinygrad', 'https:...   \n",
            "\n",
            "                              starred_repos_nameList  \\\n",
            "0  ['https://github.com/Lightning-AI/lit-llama', ...   \n",
            "1  ['https://github.com/alura/techguide', 'https:...   \n",
            "2  ['https://github.com/mediasittich/Predicting-S...   \n",
            "3  ['https://github.com/michaelliao/summer-framew...   \n",
            "4  ['https://github.com/Stability-AI/StableLM', '...   \n",
            "\n",
            "                                      followers_name  \\\n",
            "0  ['kn00m1', 'prokopevaleksey', 'hanghust', 'hea...   \n",
            "1  ['Eninger', 'MathewsLima', 'weesleycabral', 'J...   \n",
            "2  ['Tednic', 'q1hon', 'Whogauravsharma', 'Chimex...   \n",
            "3  ['GymRat102', 'ShunCAO', 'kinato123', 'liomen'...   \n",
            "4  ['xqz-u', 'aditya-shriwastava', 'domcorvasce',...   \n",
            "\n",
            "                                     following_names  \\\n",
            "0  ['ErikBjare', 'ahojnnes', 'petewarden', 'mniel...   \n",
            "1  ['Math-Vieira', 'Unity-Technologies', 'rdecont...   \n",
            "2          ['adambcomer', 'bogo', 'wbison', 'sonya']   \n",
            "3          ['torvalds', 'spring-cloud', 'espressif']   \n",
            "4                                                 []   \n",
            "\n",
            "                                        achievements status  \n",
            "0  ['Pair Extraordinaire', 'Public Sponsor', 'Arc...    NaN  \n",
            "1  ['YOLO', 'Starstruck', 'Pull Shark', 'Arctic C...      ☕  \n",
            "2  ['Pull Shark', 'Arctic Code Vault Contributor'...    NaN  \n",
            "3  ['Quickdraw', 'Pair Extraordinaire', 'Arctic C...      🍖  \n",
            "4  ['Pair Extraordinaire', 'YOLO', 'Quickdraw', '...    NaN  \n",
            "\n",
            "Repositories Data:\n",
            "   repo_id owner_username          repo_name  \\\n",
            "0        0       karpathy            nanoGPT   \n",
            "1        1       karpathy          micrograd   \n",
            "2        2       karpathy  arxiv-sanity-lite   \n",
            "3        3       karpathy          convnetjs   \n",
            "4        4  janhuenermann    Tesla-Simulator   \n",
            "\n",
            "                                         description           created_at  \\\n",
            "0  The simplest, fastest repository for training/...  2022-12-28 00:51:12   \n",
            "1  A tiny scalar-valued autograd engine and a neu...  2020-04-13 04:31:18   \n",
            "2  arxiv-sanity lite: tag arxiv papers of interes...  2021-11-13 04:34:22   \n",
            "3  Deep Learning in Javascript. Train Convolution...  2014-01-05 00:12:15   \n",
            "4  A JavaScript deep learning and reinforcement l...  2022-12-16 20:34:56   \n",
            "\n",
            "             pushed_at   size  stargazers_count  has_projects  has_wiki  ...  \\\n",
            "0  2023-07-11 12:30:39    935             22667          True      True  ...   \n",
            "1  2023-07-07 04:13:18    248              5652          True      True  ...   \n",
            "2  2023-06-19 16:23:02   1015               865          True      True  ...   \n",
            "3  2023-01-07 21:33:23  27806             10601          True      True  ...   \n",
            "4  2022-12-19 18:57:28  19511                17          True      True  ...   \n",
            "\n",
            "   forks_count  open_issues_count      license is_template  \\\n",
            "0         2877                151  MIT License       False   \n",
            "1          682                 26  MIT License       False   \n",
            "2          102                 10  MIT License       False   \n",
            "3         2058                 75  MIT License       False   \n",
            "4           13                  0  MIT License       False   \n",
            "\n",
            "                                              topics watching  \\\n",
            "0                                                 []      283   \n",
            "1                                                 []      113   \n",
            "2  ['arxiv', 'deep-learning', 'machine-learning',...       21   \n",
            "3                                                 []      599   \n",
            "4                                                 []        1   \n",
            "\n",
            "   contributors_count  commits_count  \\\n",
            "0                  31            195   \n",
            "1                   2             24   \n",
            "2                   2             75   \n",
            "3                  15             89   \n",
            "4                   5             65   \n",
            "\n",
            "                                           languages  \\\n",
            "0                                         ['Python']   \n",
            "1                     ['Jupyter Notebook', 'Python']   \n",
            "2  ['Python', 'HTML', 'CSS', 'JavaScript', 'Makef...   \n",
            "3                      ['JavaScript', 'HTML', 'CSS']   \n",
            "4                                     ['JavaScript']   \n",
            "\n",
            "                                              readme  \n",
            "0  \\n# nanoGPT\\n\\n![nanoGPT](assets/nanogpt.jpg)\\...  \n",
            "1  \\n# micrograd\\n\\n![awww](puppy.jpg)\\n\\nA tiny ...  \n",
            "2  \\n# arxiv-sanity-lite\\n\\nA much lighter-weight...  \n",
            "3  \\n# ConvNetJS\\n\\nConvNetJS is a Javascript imp...  \n",
            "4  <img src=\"./images/icon.png\" alt=\"neurojs\" hei...  \n",
            "\n",
            "[5 rows x 21 columns]\n",
            "\n",
            "Edgelist Data:\n",
            "   isForked isTopContributor  repo_id  dev_id\n",
            "0     False             True        0       0\n",
            "1     False             True        1       0\n",
            "2     False             True        2       0\n",
            "3     False             True        3       0\n",
            "4      True              NaN        4       2\n",
            "\n",
            "Developers Data Shape: (990, 18)\n",
            "Repositories Data Shape: (2954, 21)\n",
            "Edgelist Data Shape: (3050, 4)\n",
            "\n",
            "Developers Data Description:\n",
            "            dev_id  Public Repositories     Followers      Following\n",
            "count   990.000000           990.000000    990.000000     990.000000\n",
            "mean    500.344444           112.026263   2397.375758     845.522222\n",
            "std     294.214585           409.614911   3992.707685   12185.563994\n",
            "min       0.000000             8.000000    768.000000       0.000000\n",
            "25%     247.250000            29.000000    969.250000       3.000000\n",
            "50%     494.500000            59.000000   1302.500000      21.000000\n",
            "75%     741.750000           114.000000   2165.000000      85.750000\n",
            "max    1019.000000         11714.000000  49935.000000  303035.000000\n",
            "\n",
            "Repositories Data Description:\n",
            "           repo_id          size  stargazers_count   forks_count  \\\n",
            "count  2954.000000  2.954000e+03       2954.000000   2954.000000   \n",
            "mean   1476.500000  3.380869e+04       1981.704130    402.786730   \n",
            "std     852.890673  1.746265e+05       8792.510171   1962.890539   \n",
            "min       0.000000  1.000000e+00          0.000000      0.000000   \n",
            "25%     738.250000  2.312500e+02         45.000000      9.000000   \n",
            "50%    1476.500000  1.644500e+03        234.000000     48.000000   \n",
            "75%    2214.750000  1.292275e+04       1039.000000    204.000000   \n",
            "max    2953.000000  5.236299e+06     260872.000000  68462.000000   \n",
            "\n",
            "       open_issues_count     watching  contributors_count  commits_count  \n",
            "count        2954.000000  2954.000000         2954.000000    2954.000000  \n",
            "mean           24.856127    63.095802           27.842925    1624.146919  \n",
            "std            86.013891   276.643395           69.893817   19500.054172  \n",
            "min             0.000000     0.000000            0.000000       1.000000  \n",
            "25%             0.000000     4.000000            1.000000      29.000000  \n",
            "50%             3.000000    12.000000            4.000000      98.000000  \n",
            "75%            16.000000    39.000000           15.000000     419.000000  \n",
            "max          1958.000000  8604.000000          484.000000  871345.000000  \n"
          ]
        }
      ]
    },
    {
      "cell_type": "code",
      "source": [
        "developers = developers_df\n",
        "repositories = repositories_df\n",
        "edgelist = edge_list_df\n"
      ],
      "metadata": {
        "id": "7uAGJMdlhioT"
      },
      "execution_count": 8,
      "outputs": []
    },
    {
      "cell_type": "code",
      "source": [
        "# Check missing values in each dataset\n",
        "print(\"Missing Values in Developers Data:\")\n",
        "print(developers.isnull().sum())\n",
        "print(\"\\nMissing Values in Repositories Data:\")\n",
        "print(repositories.isnull().sum())\n",
        "print(\"\\nMissing Values in Edgelist Data:\")\n",
        "print(edgelist.isnull().sum())\n",
        "\n",
        "# Fill missing values in 'Company' and 'status' columns of developers data with 'Unknown'\n",
        "developers['Company'].fillna('Unknown', inplace=True)\n",
        "developers['status'].fillna('Unknown', inplace=True)\n"
      ],
      "metadata": {
        "colab": {
          "base_uri": "https://localhost:8080/"
        },
        "id": "ZqiQJBUfhilz",
        "outputId": "73200e30-13a6-4c36-8682-c78f73254e10"
      },
      "execution_count": 9,
      "outputs": [
        {
          "output_type": "stream",
          "name": "stdout",
          "text": [
            "Missing Values in Developers Data:\n",
            "dev_id                      0\n",
            "username                    0\n",
            "Name                       64\n",
            "Bio                       252\n",
            "Company                   416\n",
            "Location                  243\n",
            "Public Repositories         0\n",
            "Followers                   0\n",
            "Following                   0\n",
            "listOfPinnedRepos           0\n",
            "starredRepoCount            0\n",
            "yearly_contributions        0\n",
            "repos_name_list             0\n",
            "starred_repos_nameList      0\n",
            "followers_name              0\n",
            "following_names             0\n",
            "achievements                0\n",
            "status                    557\n",
            "dtype: int64\n",
            "\n",
            "Missing Values in Repositories Data:\n",
            "repo_id                0\n",
            "owner_username         0\n",
            "repo_name              0\n",
            "description           78\n",
            "created_at             0\n",
            "pushed_at              0\n",
            "size                   0\n",
            "stargazers_count       0\n",
            "has_projects           0\n",
            "has_wiki               0\n",
            "has_pages              0\n",
            "forks_count            0\n",
            "open_issues_count      0\n",
            "license                0\n",
            "is_template            0\n",
            "topics                 0\n",
            "watching               0\n",
            "contributors_count     0\n",
            "commits_count          0\n",
            "languages              0\n",
            "readme                 1\n",
            "dtype: int64\n",
            "\n",
            "Missing Values in Edgelist Data:\n",
            "isForked             0\n",
            "isTopContributor    24\n",
            "repo_id              0\n",
            "dev_id               0\n",
            "dtype: int64\n"
          ]
        }
      ]
    },
    {
      "cell_type": "code",
      "source": [
        "developers['Name'].fillna('Unknown', inplace=True)\n",
        "developers['Bio'].fillna('Unknown', inplace=True)\n",
        "developers['Company'].fillna('Not Specified', inplace=True)\n",
        "developers['Location'].fillna('Unknown', inplace=True)\n",
        "developers['status'].fillna('Unknown', inplace=True)\n"
      ],
      "metadata": {
        "id": "CblgHvbjhijc"
      },
      "execution_count": 10,
      "outputs": []
    },
    {
      "cell_type": "code",
      "source": [
        "repositories['description'].fillna('No Description', inplace=True)\n",
        "repositories['readme'].fillna('No Readme', inplace=True)\n"
      ],
      "metadata": {
        "id": "GlMwemxWhig_"
      },
      "execution_count": 11,
      "outputs": []
    },
    {
      "cell_type": "code",
      "source": [
        "edgelist['isTopContributor'].fillna(False, inplace=True)\n"
      ],
      "metadata": {
        "id": "AZIC_BTwhieZ"
      },
      "execution_count": 12,
      "outputs": []
    },
    {
      "cell_type": "code",
      "source": [
        "# Check missing values in each dataset again\n",
        "print(\"Missing Values in Developers Data:\")\n",
        "print(developers.isnull().sum())\n",
        "print(\"\\nMissing Values in Repositories Data:\")\n",
        "print(repositories.isnull().sum())\n",
        "print(\"\\nMissing Values in Edgelist Data:\")\n",
        "print(edgelist.isnull().sum())\n"
      ],
      "metadata": {
        "colab": {
          "base_uri": "https://localhost:8080/"
        },
        "id": "pJkZBk85hicR",
        "outputId": "de232f6f-841b-4177-85e2-6a4c093f0c00"
      },
      "execution_count": 13,
      "outputs": [
        {
          "output_type": "stream",
          "name": "stdout",
          "text": [
            "Missing Values in Developers Data:\n",
            "dev_id                    0\n",
            "username                  0\n",
            "Name                      0\n",
            "Bio                       0\n",
            "Company                   0\n",
            "Location                  0\n",
            "Public Repositories       0\n",
            "Followers                 0\n",
            "Following                 0\n",
            "listOfPinnedRepos         0\n",
            "starredRepoCount          0\n",
            "yearly_contributions      0\n",
            "repos_name_list           0\n",
            "starred_repos_nameList    0\n",
            "followers_name            0\n",
            "following_names           0\n",
            "achievements              0\n",
            "status                    0\n",
            "dtype: int64\n",
            "\n",
            "Missing Values in Repositories Data:\n",
            "repo_id               0\n",
            "owner_username        0\n",
            "repo_name             0\n",
            "description           0\n",
            "created_at            0\n",
            "pushed_at             0\n",
            "size                  0\n",
            "stargazers_count      0\n",
            "has_projects          0\n",
            "has_wiki              0\n",
            "has_pages             0\n",
            "forks_count           0\n",
            "open_issues_count     0\n",
            "license               0\n",
            "is_template           0\n",
            "topics                0\n",
            "watching              0\n",
            "contributors_count    0\n",
            "commits_count         0\n",
            "languages             0\n",
            "readme                0\n",
            "dtype: int64\n",
            "\n",
            "Missing Values in Edgelist Data:\n",
            "isForked            0\n",
            "isTopContributor    0\n",
            "repo_id             0\n",
            "dev_id              0\n",
            "dtype: int64\n"
          ]
        }
      ]
    },
    {
      "cell_type": "code",
      "source": [
        "# Developers basic statistics\n",
        "print(developers.describe(include='all'))\n"
      ],
      "metadata": {
        "colab": {
          "base_uri": "https://localhost:8080/"
        },
        "id": "x-tbwXixhiZT",
        "outputId": "6457ac40-bf19-4727-bb05-983734dc7e87"
      },
      "execution_count": 14,
      "outputs": [
        {
          "output_type": "stream",
          "name": "stdout",
          "text": [
            "             dev_id  username     Name      Bio  Company Location  \\\n",
            "count    990.000000       990      990      990      990      990   \n",
            "unique          NaN       990      927      736      528      437   \n",
            "top             NaN  karpathy  Unknown  Unknown  Unknown  Unknown   \n",
            "freq            NaN         1       64      252      416      243   \n",
            "mean     500.344444       NaN      NaN      NaN      NaN      NaN   \n",
            "std      294.214585       NaN      NaN      NaN      NaN      NaN   \n",
            "min        0.000000       NaN      NaN      NaN      NaN      NaN   \n",
            "25%      247.250000       NaN      NaN      NaN      NaN      NaN   \n",
            "50%      494.500000       NaN      NaN      NaN      NaN      NaN   \n",
            "75%      741.750000       NaN      NaN      NaN      NaN      NaN   \n",
            "max     1019.000000       NaN      NaN      NaN      NaN      NaN   \n",
            "\n",
            "        Public Repositories     Followers      Following  \\\n",
            "count            990.000000    990.000000     990.000000   \n",
            "unique                  NaN           NaN            NaN   \n",
            "top                     NaN           NaN            NaN   \n",
            "freq                    NaN           NaN            NaN   \n",
            "mean             112.026263   2397.375758     845.522222   \n",
            "std              409.614911   3992.707685   12185.563994   \n",
            "min                8.000000    768.000000       0.000000   \n",
            "25%               29.000000    969.250000       3.000000   \n",
            "50%               59.000000   1302.500000      21.000000   \n",
            "75%              114.000000   2165.000000      85.750000   \n",
            "max            11714.000000  49935.000000  303035.000000   \n",
            "\n",
            "                                        listOfPinnedRepos starredRepoCount  \\\n",
            "count                                                 990              990   \n",
            "unique                                                990              452   \n",
            "top     ['nanoGPT', 'micrograd', 'Minimal character-le...                0   \n",
            "freq                                                    1               43   \n",
            "mean                                                  NaN              NaN   \n",
            "std                                                   NaN              NaN   \n",
            "min                                                   NaN              NaN   \n",
            "25%                                                   NaN              NaN   \n",
            "50%                                                   NaN              NaN   \n",
            "75%                                                   NaN              NaN   \n",
            "max                                                   NaN              NaN   \n",
            "\n",
            "       yearly_contributions  \\\n",
            "count                   990   \n",
            "unique                  610   \n",
            "top                       0   \n",
            "freq                     69   \n",
            "mean                    NaN   \n",
            "std                     NaN   \n",
            "min                     NaN   \n",
            "25%                     NaN   \n",
            "50%                     NaN   \n",
            "75%                     NaN   \n",
            "max                     NaN   \n",
            "\n",
            "                                          repos_name_list  \\\n",
            "count                                                 990   \n",
            "unique                                                990   \n",
            "top     ['https://github.com/karpathy/micrograd', 'htt...   \n",
            "freq                                                    1   \n",
            "mean                                                  NaN   \n",
            "std                                                   NaN   \n",
            "min                                                   NaN   \n",
            "25%                                                   NaN   \n",
            "50%                                                   NaN   \n",
            "75%                                                   NaN   \n",
            "max                                                   NaN   \n",
            "\n",
            "       starred_repos_nameList  \\\n",
            "count                     990   \n",
            "unique                    947   \n",
            "top                        []   \n",
            "freq                       44   \n",
            "mean                      NaN   \n",
            "std                       NaN   \n",
            "min                       NaN   \n",
            "25%                       NaN   \n",
            "50%                       NaN   \n",
            "75%                       NaN   \n",
            "max                       NaN   \n",
            "\n",
            "                                           followers_name following_names  \\\n",
            "count                                                 990             990   \n",
            "unique                                                990             840   \n",
            "top     ['kn00m1', 'prokopevaleksey', 'hanghust', 'hea...              []   \n",
            "freq                                                    1             151   \n",
            "mean                                                  NaN             NaN   \n",
            "std                                                   NaN             NaN   \n",
            "min                                                   NaN             NaN   \n",
            "25%                                                   NaN             NaN   \n",
            "50%                                                   NaN             NaN   \n",
            "75%                                                   NaN             NaN   \n",
            "max                                                   NaN             NaN   \n",
            "\n",
            "                                             achievements   status  \n",
            "count                                                 990      990  \n",
            "unique                                                386      326  \n",
            "top     ['Arctic Code Vault Contributor', 'Starstruck'...  Unknown  \n",
            "freq                                                   99      557  \n",
            "mean                                                  NaN      NaN  \n",
            "std                                                   NaN      NaN  \n",
            "min                                                   NaN      NaN  \n",
            "25%                                                   NaN      NaN  \n",
            "50%                                                   NaN      NaN  \n",
            "75%                                                   NaN      NaN  \n",
            "max                                                   NaN      NaN  \n"
          ]
        }
      ]
    },
    {
      "cell_type": "code",
      "source": [
        "# Repositories basic statistics\n",
        "print(repositories.describe(include='all'))\n"
      ],
      "metadata": {
        "colab": {
          "base_uri": "https://localhost:8080/"
        },
        "id": "5g1zCAKlhiWS",
        "outputId": "97204bce-cd20-4355-85b3-d14df5da83de"
      },
      "execution_count": 15,
      "outputs": [
        {
          "output_type": "stream",
          "name": "stdout",
          "text": [
            "            repo_id owner_username repo_name     description  \\\n",
            "count   2954.000000           2954      2954            2954   \n",
            "unique          NaN           1111      2923            2870   \n",
            "top             NaN         google  dotfiles  No Description   \n",
            "freq            NaN              9         7              78   \n",
            "mean    1476.500000            NaN       NaN             NaN   \n",
            "std      852.890673            NaN       NaN             NaN   \n",
            "min        0.000000            NaN       NaN             NaN   \n",
            "25%      738.250000            NaN       NaN             NaN   \n",
            "50%     1476.500000            NaN       NaN             NaN   \n",
            "75%     2214.750000            NaN       NaN             NaN   \n",
            "max     2953.000000            NaN       NaN             NaN   \n",
            "\n",
            "                 created_at            pushed_at          size  \\\n",
            "count                  2954                 2954  2.954000e+03   \n",
            "unique                 2954                 2953           NaN   \n",
            "top     2022-12-28 00:51:12  2023-07-11 12:15:59           NaN   \n",
            "freq                      1                    2           NaN   \n",
            "mean                    NaN                  NaN  3.380869e+04   \n",
            "std                     NaN                  NaN  1.746265e+05   \n",
            "min                     NaN                  NaN  1.000000e+00   \n",
            "25%                     NaN                  NaN  2.312500e+02   \n",
            "50%                     NaN                  NaN  1.644500e+03   \n",
            "75%                     NaN                  NaN  1.292275e+04   \n",
            "max                     NaN                  NaN  5.236299e+06   \n",
            "\n",
            "        stargazers_count has_projects has_wiki  ...   forks_count  \\\n",
            "count        2954.000000         2954     2954  ...   2954.000000   \n",
            "unique               NaN            2        2  ...           NaN   \n",
            "top                  NaN         True     True  ...           NaN   \n",
            "freq                 NaN         2674     2431  ...           NaN   \n",
            "mean         1981.704130          NaN      NaN  ...    402.786730   \n",
            "std          8792.510171          NaN      NaN  ...   1962.890539   \n",
            "min             0.000000          NaN      NaN  ...      0.000000   \n",
            "25%            45.000000          NaN      NaN  ...      9.000000   \n",
            "50%           234.000000          NaN      NaN  ...     48.000000   \n",
            "75%          1039.000000          NaN      NaN  ...    204.000000   \n",
            "max        260872.000000          NaN      NaN  ...  68462.000000   \n",
            "\n",
            "        open_issues_count      license is_template topics     watching  \\\n",
            "count         2954.000000         2954        2954   2954  2954.000000   \n",
            "unique                NaN           22           2   1378          NaN   \n",
            "top                   NaN  MIT License       False     []          NaN   \n",
            "freq                  NaN         1371        2933   1567          NaN   \n",
            "mean            24.856127          NaN         NaN    NaN    63.095802   \n",
            "std             86.013891          NaN         NaN    NaN   276.643395   \n",
            "min              0.000000          NaN         NaN    NaN     0.000000   \n",
            "25%              0.000000          NaN         NaN    NaN     4.000000   \n",
            "50%              3.000000          NaN         NaN    NaN    12.000000   \n",
            "75%             16.000000          NaN         NaN    NaN    39.000000   \n",
            "max           1958.000000          NaN         NaN    NaN  8604.000000   \n",
            "\n",
            "        contributors_count  commits_count   languages  \\\n",
            "count          2954.000000    2954.000000        2954   \n",
            "unique                 NaN            NaN        1170   \n",
            "top                    NaN            NaN  ['Python']   \n",
            "freq                   NaN            NaN         684   \n",
            "mean             27.842925    1624.146919         NaN   \n",
            "std              69.893817   19500.054172         NaN   \n",
            "min               0.000000       1.000000         NaN   \n",
            "25%               1.000000      29.000000         NaN   \n",
            "50%               4.000000      98.000000         NaN   \n",
            "75%              15.000000     419.000000         NaN   \n",
            "max             484.000000  871345.000000         NaN   \n",
            "\n",
            "                                                   readme  \n",
            "count                                                2954  \n",
            "unique                                               2953  \n",
            "top     <h1 align=\"center\">\\n  <img src=\"https://raw.g...  \n",
            "freq                                                    2  \n",
            "mean                                                  NaN  \n",
            "std                                                   NaN  \n",
            "min                                                   NaN  \n",
            "25%                                                   NaN  \n",
            "50%                                                   NaN  \n",
            "75%                                                   NaN  \n",
            "max                                                   NaN  \n",
            "\n",
            "[11 rows x 21 columns]\n"
          ]
        }
      ]
    },
    {
      "cell_type": "code",
      "source": [
        "# Edgelist basic statistics\n",
        "print(edgelist.describe(include='all'))\n"
      ],
      "metadata": {
        "colab": {
          "base_uri": "https://localhost:8080/"
        },
        "id": "jOdz0j-yhiQQ",
        "outputId": "08d19840-40d9-4b5c-e2c3-88d69311e1d9"
      },
      "execution_count": 16,
      "outputs": [
        {
          "output_type": "stream",
          "name": "stdout",
          "text": [
            "       isForked isTopContributor      repo_id       dev_id\n",
            "count      3050             3050  3050.000000  3050.000000\n",
            "unique        2                2          NaN          NaN\n",
            "top       False             True          NaN          NaN\n",
            "freq       2529             2812          NaN          NaN\n",
            "mean        NaN              NaN  1454.457049   490.952131\n",
            "std         NaN              NaN   858.278585   294.216248\n",
            "min         NaN              NaN     0.000000     0.000000\n",
            "25%         NaN              NaN   708.250000   243.250000\n",
            "50%         NaN              NaN  1446.500000   472.000000\n",
            "75%         NaN              NaN  2195.750000   737.000000\n",
            "max         NaN              NaN  2953.000000  1019.000000\n"
          ]
        }
      ]
    },
    {
      "cell_type": "code",
      "source": [
        "import matplotlib.pyplot as plt\n",
        "\n",
        "# Distribution of number of public repositories by developers\n",
        "developers['Public Repositories'].hist(bins=50)\n",
        "plt.title('Distribution of Public Repositories by Developers')\n",
        "plt.xlabel('Number of Repositories')\n",
        "plt.ylabel('Number of Developers')\n",
        "plt.show()\n",
        "\n",
        "# Distribution of number of followers of developers\n",
        "developers['Followers'].hist(bins=50)\n",
        "plt.title('Distribution of Followers of Developers')\n",
        "plt.xlabel('Number of Followers')\n",
        "plt.ylabel('Number of Developers')\n",
        "plt.show()\n"
      ],
      "metadata": {
        "colab": {
          "base_uri": "https://localhost:8080/",
          "height": 927
        },
        "id": "EoAsb98RnwSK",
        "outputId": "f109b38c-c0df-4d30-ed69-3c6bd2c1690a"
      },
      "execution_count": 18,
      "outputs": [
        {
          "output_type": "display_data",
          "data": {
            "text/plain": [
              "<Figure size 640x480 with 1 Axes>"
            ],
            "image/png": "[encoded data removed]"
          },
          "metadata": {}
        },
        {
          "output_type": "display_data",
          "data": {
            "text/plain": [
              "<Figure size 640x480 with 1 Axes>"
            ],
            "image/png": "[encoded data removed]"
          },
          "metadata": {}
        }
      ]
    },
    {
      "cell_type": "code",
      "source": [
        "# Distribution of stargazers count for repositories\n",
        "repositories['stargazers_count'].hist(bins=50)\n",
        "plt.title('Distribution of Stargazers Count for Repositories')\n",
        "plt.xlabel('Stargazers Count')\n",
        "plt.ylabel('Number of Repositories')\n",
        "plt.show()\n",
        "\n",
        "# Distribution of forks count for repositories\n",
        "repositories['forks_count'].hist(bins=50)\n",
        "plt.title('Distribution of Forks Count for Repositories')\n",
        "plt.xlabel('Forks Count')\n",
        "plt.ylabel('Number of Repositories')\n",
        "plt.show()\n"
      ],
      "metadata": {
        "colab": {
          "base_uri": "https://localhost:8080/",
          "height": 927
        },
        "id": "_X7y8GSgoV3V",
        "outputId": "08c50297-12c9-450b-8abe-816e3227e517"
      },
      "execution_count": 19,
      "outputs": [
        {
          "output_type": "display_data",
          "data": {
            "text/plain": [
              "<Figure size 640x480 with 1 Axes>"
            ],
            "image/png": "[encoded data removed]"
          },
          "metadata": {}
        },
        {
          "output_type": "display_data",
          "data": {
            "text/plain": [
              "<Figure size 640x480 with 1 Axes>"
            ],
            "image/png": "[encoded data removed]"
          },
          "metadata": {}
        }
      ]
    },
    {
      "cell_type": "code",
      "source": [
        "import matplotlib.pyplot as plt\n",
        "import seaborn as sns\n",
        "\n",
        "plt.figure(figsize=(12, 6))\n",
        "sns.scatterplot(data=developers, x='Public Repositories', y='Followers')\n",
        "plt.title('Public Repositories vs. Followers')\n",
        "plt.xlabel('Number of Public Repositories')\n",
        "plt.ylabel('Number of Followers')\n",
        "plt.show()\n"
      ],
      "metadata": {
        "colab": {
          "base_uri": "https://localhost:8080/",
          "height": 564
        },
        "id": "iQ3CBRDloaiQ",
        "outputId": "f14a189f-bf18-4d3e-87ed-63f916b1b345"
      },
      "execution_count": 20,
      "outputs": [
        {
          "output_type": "display_data",
          "data": {
            "text/plain": [
              "<Figure size 1200x600 with 1 Axes>"
            ],
            "image/png": "[encoded data removed]"
          },
          "metadata": {}
        }
      ]
    },
    {
      "cell_type": "code",
      "source": [
        "plt.figure(figsize=(12, 6))\n",
        "sns.scatterplot(data=repositories, x='stargazers_count', y='forks_count')\n",
        "plt.title('Stargazers Count vs. Forks Count')\n",
        "plt.xlabel('Stargazers Count')\n",
        "plt.ylabel('Forks Count')\n",
        "plt.show()\n"
      ],
      "metadata": {
        "colab": {
          "base_uri": "https://localhost:8080/",
          "height": 564
        },
        "id": "_i-oUfxCorgm",
        "outputId": "e1513dc5-297d-4fc6-df45-b5b0cd3ec447"
      },
      "execution_count": 21,
      "outputs": [
        {
          "output_type": "display_data",
          "data": {
            "text/plain": [
              "<Figure size 1200x600 with 1 Axes>"
            ],
            "image/png": "[encoded data removed]"
          },
          "metadata": {}
        }
      ]
    },
    {
      "cell_type": "code",
      "source": [
        "# Merging the datasets\n",
        "merged_data = edgelist.merge(developers, on='dev_id').merge(repositories, on='repo_id')\n",
        "\n",
        "# Filtering top contributors\n",
        "top_contributors = merged_data[merged_data['isTopContributor'] == True]\n",
        "\n",
        "# Sorting by stargazers_count to get top repositories\n",
        "top_repos_by_contributors = top_contributors.sort_values(by='stargazers_count', ascending=False)\n"
      ],
      "metadata": {
        "id": "4rKLTbLqouR-"
      },
      "execution_count": 22,
      "outputs": []
    },
    {
      "cell_type": "code",
      "source": [
        "import re\n",
        "\n",
        "# Extracting numbers from the yearly_contributions column\n",
        "developers['yearly_contributions'] = developers['yearly_contributions'].apply(lambda x: int(re.search(r'\\d+', x.replace(',', '')).group()))\n",
        "\n",
        "# Recalculate active_rate\n",
        "developers['active_rate'] = developers['yearly_contributions'].apply(lambda x: 'High' if x > 500 else 'Medium' if x > 100 else 'Low')\n",
        "\n",
        "# Calculate follower_following_ratio\n",
        "developers['follower_following_ratio'] = developers['Followers'] / developers['Following'].replace(0, 1)\n"
      ],
      "metadata": {
        "id": "PHKwyLubov2H"
      },
      "execution_count": 27,
      "outputs": []
    },
    {
      "cell_type": "code",
      "source": [
        "developers = pd.get_dummies(developers, columns=['active_rate'], drop_first=True)\n"
      ],
      "metadata": {
        "id": "GadO5aD-o4Bl"
      },
      "execution_count": 28,
      "outputs": []
    },
    {
      "cell_type": "code",
      "source": [
        "import numpy as np\n",
        "\n",
        "repositories['log_stargazers_count'] = np.log1p(repositories['stargazers_count'])\n",
        "repositories['log_forks_count'] = np.log1p(repositories['forks_count'])\n"
      ],
      "metadata": {
        "id": "i6kkwQwLp4Fr"
      },
      "execution_count": 29,
      "outputs": []
    },
    {
      "cell_type": "code",
      "source": [
        "from sklearn.model_selection import train_test_split\n",
        "\n",
        "# For demonstration purposes, let's consider predicting 'stargazers_count' based on other features in the repository dataset.\n",
        "X = repositories.drop('stargazers_count', axis=1)\n",
        "y = repositories['stargazers_count']\n",
        "\n",
        "X_train, X_test, y_train, y_test = train_test_split(X, y, test_size=0.2, random_state=42)\n"
      ],
      "metadata": {
        "id": "yfs_7WoUp5ur"
      },
      "execution_count": 30,
      "outputs": []
    },
    {
      "cell_type": "code",
      "source": [
        "X_train, X_test, y_train, y_test"
      ],
      "metadata": {
        "colab": {
          "base_uri": "https://localhost:8080/"
        },
        "id": "fFEBMwqip76O",
        "outputId": "5929a89f-910b-4051-c3e0-13a3c0e0ed18"
      },
      "execution_count": 31,
      "outputs": [
        {
          "output_type": "execute_result",
          "data": {
            "text/plain": [
              "(      repo_id  owner_username                            repo_name  \\\n",
              " 2222     2222     anitagraser                         movingpandas   \n",
              " 1491     1491        fafhrd91                                 ntex   \n",
              " 2862     2862         hanc00l                              nemo_go   \n",
              " 358       358        wangshub                             RL-Stock   \n",
              " 807       807  bhattbhavesh91  cowin-vaccination-slot-availability   \n",
              " ...       ...             ...                                  ...   \n",
              " 1638     1638      XTeam-Wing             Hunting-Active-Directory   \n",
              " 1095     1095   RubensZimbres                            Repo-2022   \n",
              " 1130     1130  LukeMathWalker                           cargo-chef   \n",
              " 1294     1294           PyCQA                               flake8   \n",
              " 860       860     ubernostrum                  django-contact-form   \n",
              " \n",
              "                                             description           created_at  \\\n",
              " 2222  Implementation of Trajectory classes and funct...  2018-12-16 11:41:15   \n",
              " 1491      framework for composable networking services   2020-01-31 02:50:12   \n",
              " 2862  Nemo是用来进行自动化信息收集的一个简单平台，通过集成常用的信息收集工具和技术，实现对内网...  2021-07-29 08:13:25   \n",
              " 358                                     📈 如何用深度强化学习自动炒股  2020-03-24 03:04:23   \n",
              " 807   Script to check the available slots for Covid-...  2021-04-30 06:36:19   \n",
              " ...                                                 ...                  ...   \n",
              " 1638                          个人整理的一些域渗透Tricks，可能有一些错误。  2021-04-22 02:36:07   \n",
              " 1095  Python codes on PyTorch, Tensorflow, Keras, Wa...  2022-05-02 20:04:09   \n",
              " 1130  A cargo-subcommand to speed up Rust Docker bui...  2020-10-19 17:52:16   \n",
              " 1294               The official GitHub mirror of flake8  2015-12-04 06:23:21   \n",
              " 860        A simple contact-form application for Django  2015-08-25 23:22:28   \n",
              " \n",
              "                 pushed_at    size  has_projects  has_wiki  has_pages  ...  \\\n",
              " 2222  2023-07-11 14:58:41   46113          True      True       True  ...   \n",
              " 1491  2023-06-26 04:00:25   11113         False      True      False  ...   \n",
              " 2862  2023-07-12 14:28:14  159210          True      True      False  ...   \n",
              " 358   2022-11-22 05:26:28    4488          True      True      False  ...   \n",
              " 807   2021-09-04 10:43:01   35798          True      True      False  ...   \n",
              " ...                   ...     ...           ...       ...        ...  ...   \n",
              " 1638  2021-05-03 05:57:04      94          True      True      False  ...   \n",
              " 1095  2023-06-21 21:44:54   78360          True      True      False  ...   \n",
              " 1130  2023-07-10 22:29:55     243          True      True      False  ...   \n",
              " 1294  2015-12-04 06:23:51    1310          True     False      False  ...   \n",
              " 860   2018-09-17 14:05:56     140          True      True      False  ...   \n",
              " \n",
              "                                       license  is_template  \\\n",
              " 2222  BSD 3-Clause \"New\" or \"Revised\" License        False   \n",
              " 1491                              MIT License        False   \n",
              " 2862                       Apache License 2.0        False   \n",
              " 358                               MIT License        False   \n",
              " 807                        Apache License 2.0        False   \n",
              " ...                                       ...          ...   \n",
              " 1638                       Apache License 2.0        False   \n",
              " 1095                       Apache License 2.0        False   \n",
              " 1130                       Apache License 2.0        False   \n",
              " 1294                                    Other        False   \n",
              " 860   BSD 3-Clause \"New\" or \"Revised\" License        False   \n",
              " \n",
              "                                                  topics  watching  \\\n",
              " 2222  ['geopandas', 'trajectory', 'movement-data', '...        41   \n",
              " 1491  ['rust', 'async', 'networking', 'http', 'webso...        34   \n",
              " 2862                                                 []        21   \n",
              " 358                                                  []        87   \n",
              " 807   ['covid-19', 'vaccine-tracker', 'vaccine-avail...        15   \n",
              " ...                                                 ...       ...   \n",
              " 1638                                                 []         3   \n",
              " 1095  ['googlecloudplatform', 'keras-tensorflow', 'w...         4   \n",
              " 1130                  ['rust', 'docker', 'cargo', 'ci']         8   \n",
              " 1294                                                 []         1   \n",
              " 860                                                  []         2   \n",
              " \n",
              "      contributors_count  commits_count  \\\n",
              " 2222                 29            623   \n",
              " 1491                212           4581   \n",
              " 2862                  3            205   \n",
              " 358                   2             36   \n",
              " 807                   9            100   \n",
              " ...                 ...            ...   \n",
              " 1638                  2              8   \n",
              " 1095                  1            437   \n",
              " 1130                 48            227   \n",
              " 1294                 45            561   \n",
              " 860                   2             91   \n",
              " \n",
              "                                               languages  \\\n",
              " 2222                     ['Python', 'Jupyter Notebook']   \n",
              " 1491                                  ['Rust', 'Shell']   \n",
              " 2862  ['Go', 'JavaScript', 'HTML', 'CSS', 'Shell', '...   \n",
              " 358                      ['Jupyter Notebook', 'Python']   \n",
              " 807   ['Jupyter Notebook', 'Python', 'Shell', 'Docke...   \n",
              " ...                                                 ...   \n",
              " 1638                                                 []   \n",
              " 1095  ['Jupyter Notebook', 'NetLogo', 'Python', 'C++...   \n",
              " 1130                             ['Rust', 'Dockerfile']   \n",
              " 1294                                         ['Python']   \n",
              " 860                                  ['Python', 'HTML']   \n",
              " \n",
              "                                                  readme log_stargazers_count  \\\n",
              " 2222  # MovingPandas\\n\\n[![pypi](https://img.shields...             6.899723   \n",
              " 1491  <div align=\"center\">\\n <p><h1>ntex</h1> </p>\\n...             7.126087   \n",
              " 2862  # Nemo\\n\\n**[快速上手](docs/quickstart.md)** • **[...             6.931472   \n",
              " 358   # 📈 如何用深度强化学习自动炒股\\n\\n## 💡 初衷\\n\\n最近一段时间，受到新冠疫情的...             7.882315   \n",
              " 807   # CoWIN vaccination slot availability using Py...             5.717028   \n",
              " ...                                                 ...                  ...   \n",
              " 1638  # Hunting-Active-Directory\\n个人整理的一些域渗透Tricks，可...             5.429346   \n",
              " 1095  # Repo-2022  \\n  \\n<b>Cellular Automaton</b>  ...             1.791759   \n",
              " 1130  <h1 align=\"center\">cargo-chef</h1>\\n<div align...             7.045777   \n",
              " 1294  ======\\nFlake8\\n======\\n\\nFlake8 is a wrapper ...             0.000000   \n",
              " 860   .. -*-restructuredtext-*-\\n\\n.. image:: https:...             1.098612   \n",
              " \n",
              "      log_forks_count  \n",
              " 2222        5.198497  \n",
              " 1491        4.343805  \n",
              " 2862        5.214936  \n",
              " 358         6.483107  \n",
              " 807         5.624018  \n",
              " ...              ...  \n",
              " 1638        3.912023  \n",
              " 1095        1.609438  \n",
              " 1130        4.465908  \n",
              " 1294        0.000000  \n",
              " 860         1.386294  \n",
              " \n",
              " [2363 rows x 22 columns],\n",
              "       repo_id owner_username                 repo_name  \\\n",
              " 2745     2745       LucioFex                    Imasku   \n",
              " 1255     1255         apache                  superset   \n",
              " 174       174    byt3bl33d3r                 WitnessMe   \n",
              " 2844     2844       mazen160                struts-pwn   \n",
              " 857       857   philipperemy              deep-speaker   \n",
              " ...       ...            ...                       ...   \n",
              " 2102     2102      jeffknupp                   sandman   \n",
              " 1868     1868         wdxtub        deep-learning-note   \n",
              " 1088     1088           dask               distributed   \n",
              " 1362     1362          hzwer  ICCV2019-LearningToPaint   \n",
              " 2684     2684      explosion                     spaCy   \n",
              " \n",
              "                                             description           created_at  \\\n",
              " 2745  Imasku is a minimalist Discord Bot that wants ...  2022-03-05 22:52:30   \n",
              " 1255  Caravel is a data exploration platform designe...  2016-04-20 16:28:49   \n",
              " 174   Web Inventory tool, takes screenshots of webpa...  2019-07-06 05:25:10   \n",
              " 2844         An exploit for Apache Struts CVE-2017-5638  2017-03-12 02:02:25   \n",
              " 857   Deep Speaker: an End-to-End Neural Speaker Emb...  2017-05-19 05:06:32   \n",
              " ...                                                 ...                  ...   \n",
              " 2102                       Sandman \"makes things REST\".  2013-07-20 19:52:21   \n",
              " 1868                                     个人学习深度学习的代码与笔记  2019-03-27 14:28:58   \n",
              " 1088                                     No Description  2015-11-20 15:20:38   \n",
              " 1362  ICCV2019 - Learning to Paint With Model-based ...  2019-03-11 03:56:03   \n",
              " 2684  💫 Industrial-strength Natural Language Process...  2017-10-06 13:23:05   \n",
              " \n",
              "                 pushed_at    size  has_projects  has_wiki  has_pages  ...  \\\n",
              " 2745  2022-11-06 04:37:58    5226          True      True      False  ...   \n",
              " 1255  2023-06-01 23:19:42  426530          True     False       True  ...   \n",
              " 174   2022-12-08 11:04:13     576          True      True      False  ...   \n",
              " 2844  2018-05-21 18:33:26      10          True      True      False  ...   \n",
              " 857   2022-10-04 05:49:31   83478          True      True      False  ...   \n",
              " ...                   ...     ...           ...       ...        ...  ...   \n",
              " 2102  2021-12-25 11:42:58   11880          True      True      False  ...   \n",
              " 1868  2021-04-21 01:49:54   44256          True      True      False  ...   \n",
              " 1088  2023-07-12 04:26:21   30541          True      True      False  ...   \n",
              " 1362  2022-09-26 07:13:24   19119          True      True      False  ...   \n",
              " 2684  2019-12-22 04:33:49  165448          True     False      False  ...   \n",
              " \n",
              "                                       license  is_template  \\\n",
              " 2745                              MIT License        False   \n",
              " 1255                       Apache License 2.0        False   \n",
              " 174           GNU General Public License v3.0        False   \n",
              " 2844                              MIT License        False   \n",
              " 857                               MIT License        False   \n",
              " ...                                       ...          ...   \n",
              " 2102                       Apache License 2.0        False   \n",
              " 1868                              MIT License        False   \n",
              " 1088  BSD 3-Clause \"New\" or \"Revised\" License        False   \n",
              " 1362                              MIT License        False   \n",
              " 2684                              MIT License        False   \n",
              " \n",
              "                                                  topics  watching  \\\n",
              " 2745              ['photo-editor', 'discord', 'nodejs']         1   \n",
              " 1255                                                 []         3   \n",
              " 174   ['security-tools', 'web-inventory', 'screensho...        23   \n",
              " 2844  ['apache', 'struts', 'exploit', 'cve-2017-5638...        21   \n",
              " 857   ['deep-speaker', 'deep-learning', 'keras', 'te...        52   \n",
              " ...                                                 ...       ...   \n",
              " 2102                                                 []       103   \n",
              " 1868                                                 []         4   \n",
              " 1088                                                 []         5   \n",
              " 1362  ['deep-learning', 'reinforcement-learning', 'c...        49   \n",
              " 2684                                                 []         1   \n",
              " \n",
              "      contributors_count  commits_count  \\\n",
              " 2745                  1            101   \n",
              " 1255                424          11557   \n",
              " 174                   2             78   \n",
              " 2844                  3             11   \n",
              " 857                   5            363   \n",
              " ...                 ...            ...   \n",
              " 2102                 14            384   \n",
              " 1868                  1             91   \n",
              " 1088                142           3055   \n",
              " 1362                  5            100   \n",
              " 2684                380          11119   \n",
              " \n",
              "                                               languages  \\\n",
              " 2745                ['JavaScript', 'Procfile', 'Shell']   \n",
              " 1255  ['TypeScript', 'Python', 'JavaScript', 'Jupyte...   \n",
              " 174        ['Python', 'HTML', 'Dockerfile', 'Makefile']   \n",
              " 2844                                         ['Python']   \n",
              " 857                                 ['Python', 'Shell']   \n",
              " ...                                                 ...   \n",
              " 2102  ['Python', 'HTML', 'Batchfile', 'Makefile', 'S...   \n",
              " 1868      ['Python', 'Jupyter Notebook', 'Go', 'Shell']   \n",
              " 1088  ['Python', 'HTML', 'Batchfile', 'Shell', 'CSS'...   \n",
              " 1362                     ['Python', 'Jupyter Notebook']   \n",
              " 2684  ['Python', 'JavaScript', 'C++', 'C', 'CSS', 'H...   \n",
              " \n",
              "                                                  readme log_stargazers_count  \\\n",
              " 2745  <h1 align=\"center\">\\r\\n <p>Imasku</p>\\r\\n <p>🎩...             1.609438   \n",
              " 1255  <!--\\nLicensed to the Apache Software Foundati...             2.397895   \n",
              " 174   # WitnessMe\\n\\n<p align=\"center\">\\n  <img src=...             6.525030   \n",
              " 2844  *struts-pwn*\\n============\\n\\n### An exploit f...             6.023448   \n",
              " 857   ## Deep Speaker: An End-to-End Neural Speaker ...             6.710523   \n",
              " ...                                                 ...                  ...   \n",
              " 2102  This version is obsolete, please consider usin...             7.751045   \n",
              " 1868  # deep-learning-note\\n\\n个人学习深度学习的笔记，已迁移到 https...             3.784190   \n",
              " 1088  Distributed\\n===========\\n\\nA library for dist...             2.484907   \n",
              " 1362  # ICCV2019-Learning to Paint\\n\\n## [arXiv](htt...             7.696667   \n",
              " 2684  <a href=\"https://explosion.ai\"><img src=\"https...             0.693147   \n",
              " \n",
              "      log_forks_count  \n",
              " 2745        0.000000  \n",
              " 1255        1.609438  \n",
              " 174         4.663439  \n",
              " 2844        5.017280  \n",
              " 857         5.459586  \n",
              " ...              ...  \n",
              " 2102        5.181784  \n",
              " 1868        2.890372  \n",
              " 1088        1.609438  \n",
              " 1362        5.752573  \n",
              " 2684        0.000000  \n",
              " \n",
              " [591 rows x 22 columns],\n",
              " 2222     991\n",
              " 1491    1243\n",
              " 2862    1023\n",
              " 358     2649\n",
              " 807      303\n",
              "         ... \n",
              " 1638     227\n",
              " 1095       5\n",
              " 1130    1147\n",
              " 1294       0\n",
              " 860        2\n",
              " Name: stargazers_count, Length: 2363, dtype: int64,\n",
              " 2745       4\n",
              " 1255      10\n",
              " 174      681\n",
              " 2844     412\n",
              " 857      820\n",
              "         ... \n",
              " 2102    2323\n",
              " 1868      43\n",
              " 1088      11\n",
              " 1362    2200\n",
              " 2684       1\n",
              " Name: stargazers_count, Length: 591, dtype: int64)"
            ]
          },
          "metadata": {},
          "execution_count": 31
        }
      ]
    },
    {
      "cell_type": "code",
      "source": [
        "from sklearn.linear_model import LinearRegression\n",
        "from sklearn.metrics import mean_absolute_error, mean_squared_error, r2_score\n",
        "\n",
        "# Initialize the linear regression model\n",
        "lr = LinearRegression()\n",
        "\n",
        "# Train the model\n",
        "lr.fit(X_train[['size', 'contributors_count', 'commits_count', 'watching']], y_train)\n",
        "\n",
        "# Make predictions on the test set\n",
        "y_pred = lr.predict(X_test[['size', 'contributors_count', 'commits_count', 'watching']])\n",
        "\n",
        "# Evaluate the model's performance\n",
        "mae = mean_absolute_error(y_test, y_pred)\n",
        "mse = mean_squared_error(y_test, y_pred)\n",
        "r2 = r2_score(y_test, y_pred)\n",
        "\n",
        "mae, mse, r2\n"
      ],
      "metadata": {
        "colab": {
          "base_uri": "https://localhost:8080/"
        },
        "id": "y06AilKPqDc4",
        "outputId": "a6dea90f-2b8d-4824-c4a1-2339590e73ad"
      },
      "execution_count": 32,
      "outputs": [
        {
          "output_type": "execute_result",
          "data": {
            "text/plain": [
              "(991.4154205570949, 8860546.548733616, 0.9236018878251254)"
            ]
          },
          "metadata": {},
          "execution_count": 32
        }
      ]
    },
    {
      "cell_type": "code",
      "source": [
        "from sklearn.tree import DecisionTreeRegressor\n",
        "from sklearn.ensemble import RandomForestRegressor\n",
        "from xgboost import XGBRegressor\n",
        "from sklearn.metrics import mean_absolute_error, mean_squared_error, r2_score\n",
        "\n",
        "# Data preparation\n",
        "X_train_transformed = X_train.drop(columns=['owner_username', 'repo_name', 'description', 'created_at', 'pushed_at', 'license', 'topics', 'languages', 'readme'])\n",
        "X_test_transformed = X_test.drop(columns=['owner_username', 'repo_name', 'description', 'created_at', 'pushed_at', 'license', 'topics', 'languages', 'readme'])\n",
        "\n",
        "# Initialize models\n",
        "dt_reg = DecisionTreeRegressor(random_state=42)\n",
        "rf_reg = RandomForestRegressor(random_state=42)\n",
        "xgb_reg = XGBRegressor(random_state=42)\n",
        "\n",
        "# Train models\n",
        "dt_reg.fit(X_train_transformed, y_train)\n",
        "rf_reg.fit(X_train_transformed, y_train)\n",
        "xgb_reg.fit(X_train_transformed, y_train)\n",
        "\n",
        "# Predictions\n",
        "dt_preds = dt_reg.predict(X_test_transformed)\n",
        "rf_preds = rf_reg.predict(X_test_transformed)\n",
        "xgb_preds = xgb_reg.predict(X_test_transformed)\n",
        "\n",
        "# Evaluation\n",
        "models = [\"Decision Tree\", \"Random Forest\", \"XGBoost\"]\n",
        "predictions = [dt_preds, rf_preds, xgb_preds]\n",
        "\n",
        "results = {}\n",
        "for model, pred in zip(models, predictions):\n",
        "    mae = mean_absolute_error(y_test, pred)\n",
        "    mse = mean_squared_error(y_test, pred)\n",
        "    r2 = r2_score(y_test, pred)\n",
        "    results[model] = {\"MAE\": mae, \"MSE\": mse, \"R2\": r2}\n",
        "\n",
        "results\n"
      ],
      "metadata": {
        "colab": {
          "base_uri": "https://localhost:8080/"
        },
        "id": "THAc-B2Yr7TD",
        "outputId": "3bbd0be2-6bc4-4648-8f6c-eaba35b060fa"
      },
      "execution_count": 33,
      "outputs": [
        {
          "output_type": "execute_result",
          "data": {
            "text/plain": [
              "{'Decision Tree': {'MAE': 149.1082910321489,\n",
              "  'MSE': 4815616.66497462,\n",
              "  'R2': 0.9584784053513596},\n",
              " 'Random Forest': {'MAE': 103.49780033840948,\n",
              "  'MSE': 3628046.155989509,\n",
              "  'R2': 0.9687179706492797},\n",
              " 'XGBoost': {'MAE': 551.584062075567,\n",
              "  'MSE': 67711524.2739449,\n",
              "  'R2': 0.4161722870524349}}"
            ]
          },
          "metadata": {},
          "execution_count": 33
        }
      ]
    },
    {
      "cell_type": "code",
      "source": [],
      "metadata": {
        "id": "lhGabJP0r7Qc"
      },
      "execution_count": null,
      "outputs": []
    },
    {
      "cell_type": "code",
      "source": [],
      "metadata": {
        "id": "xKyPTreSr7OB"
      },
      "execution_count": null,
      "outputs": []
    },
    {
      "cell_type": "code",
      "source": [],
      "metadata": {
        "id": "Ezc9xd87r7Ln"
      },
      "execution_count": null,
      "outputs": []
    },
    {
      "cell_type": "code",
      "source": [],
      "metadata": {
        "id": "M_gknmUhr7JJ"
      },
      "execution_count": null,
      "outputs": []
    }
  ]
}